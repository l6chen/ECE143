{
 "cells": [
  {
   "cell_type": "code",
   "execution_count": 82,
   "metadata": {},
   "outputs": [
    {
     "name": "stdout",
     "output_type": "stream",
     "text": [
      "Using matplotlib backend: Qt5Agg\n",
      "Populating the interactive namespace from numpy and matplotlib\n"
     ]
    },
    {
     "data": {
      "text/plain": [
       "Text(0.5,1,'race distribution in arrested subjects')"
      ]
     },
     "execution_count": 82,
     "metadata": {},
     "output_type": "execute_result"
    }
   ],
   "source": [
    "import pandas as pd\n",
    "from matplotlib import font_manager as fm\n",
    "%pylab\n",
    "ALL=pd.read_csv('vehicle_stops_2016_datasd.csv')\n",
    "data=pd.DataFrame({'stop_id':ALL['stop_id'],'subject_race':ALL['subject_race'],'timestamp':ALL['timestamp'],'arrested':ALL['arrested']});\n",
    "race=list(data['subject_race'])\n",
    "race=list(set(race))\n",
    "arrest=data[(data['arrested']=='Y')]\n",
    "race_arrestdata=list(arrest['subject_race'])\n",
    "race_num=[]\n",
    "for i in race:\n",
    "    race_num.append(race_arrestdata.count(i))\n",
    "racenum_arrest=dict(zip(race,race_num))\n",
    "arrest_pie=racenum_arrest.copy()\n",
    "del arrest_pie[race[0]]\n",
    "del arrest_pie['X']\n",
    "\n",
    "i=0;\n",
    "for k in arrest_pie.copy():\n",
    "    if arrest_pie[k]<50:\n",
    "        i=i+arrest_pie[k];\n",
    "        del arrest_pie[k];\n",
    "arrest_pie['other']=i\n",
    "labels=['HISPANIC','WHITE','BLACK','OTHER']\n",
    "sizes=list(arrest_pie.values())\n",
    "plt.figure(figsize=(20,25))\n",
    "patches,l_text,p_text=plt.pie(sizes, labels=labels, \n",
    "        autopct='%1.1f%%', shadow=False, startangle=90)\n",
    "proptease = fm.FontProperties()\n",
    "proptease.set_size('xx-large')\n",
    "# font size include: ‘xx-small’,x-small’,'small’,'medium’,‘large’,‘x-large’,‘xx-large’ or number, e.g. '12'\n",
    "plt.setp(l_text, fontproperties=proptease)\n",
    "plt.setp(p_text, fontproperties=proptease)\n",
    "\n",
    "plt.axis('equal')\n",
    "plt.show()\n",
    "plt.legend(fontsize=20,loc=1)\n",
    "plt.title(\"race distribution in arrested subjects\",fontsize=20)\n"
   ]
  },
  {
   "cell_type": "code",
   "execution_count": 83,
   "metadata": {},
   "outputs": [
    {
     "data": {
      "text/plain": [
       "Text(0.5,1,'percentage of arrested in each race')"
      ]
     },
     "execution_count": 83,
     "metadata": {},
     "output_type": "execute_result"
    }
   ],
   "source": [
    "import numpy as np\n",
    "race=list(data['subject_race'])\n",
    "race=list(set(race))\n",
    "arrest_bar=racenum_arrest.copy()\n",
    "del arrest_bar[race[0]]\n",
    "del arrest_bar['X']\n",
    "race_ele=race\n",
    "race_ele.remove(race_ele[0])\n",
    "race_ele.remove('X')\n",
    "#derive the population who were not arrested\n",
    "race=list(data['subject_race'])\n",
    "race_pop=[]\n",
    "for i in race_ele:\n",
    "    race_pop.append(race.count(i))\n",
    "race_pop_uarre=[race_pop[i]-list(arrest_bar.values())[i] for i in range(0,len(race_pop))]\n",
    "race_list=list(arrest_bar.keys());\n",
    "name_list=['VIETNAMESE','ASIAN INDIAN','CAMBODIAN','HISPANIC','INDIAN','KOREAN','JAPANESE','HAWAIIAN','PACIFIC ISLANDER','WHITE','FILIPINO','OTHER ASIAN','OTHER','CHINESE','LAOTIAN','GUAMANIAN','BLACK','SAMOAN']\n",
    "\n",
    "\n",
    "#calculate the percentage of arrested in each race\n",
    "race_perc_uarre=[(race_pop[i]-list(arrest_bar.values())[i])*100/race_pop[i] for i in range(0,len(race_pop))]\n",
    "race_perc_arre=[list(arrest_bar.values())[i]*100/race_pop[i] for i in range(0,len(race_pop))]\n",
    "\n",
    "\n",
    "\n",
    "idx = np.arange(len(name_list))\n",
    "plt.figure(figsize=(100,120))\n",
    "plt.bar(idx,race_perc_uarre,label='not arrested',fc='g')\n",
    "plt.bar(idx,race_perc_arre,bottom=race_perc_uarre,label='arrested',fc='r')\n",
    "\n",
    "plt.xticks(idx,name_list,rotation=40)\n",
    "plt.ylim(0,120)\n",
    "\n",
    "\n",
    "plt.legend(loc=1,fontsize=20)\n",
    "plt.xlabel('race',fontsize=17)\n",
    "plt.ylabel('percentage of population/%',fontsize=17)\n",
    "plt.title(\"percentage of arrested in each race\",fontsize=20)"
   ]
  },
  {
   "cell_type": "code",
   "execution_count": null,
   "metadata": {},
   "outputs": [],
   "source": []
  },
  {
   "cell_type": "code",
   "execution_count": null,
   "metadata": {},
   "outputs": [],
   "source": []
  }
 ],
 "metadata": {
  "kernelspec": {
   "display_name": "Python 3",
   "language": "python",
   "name": "python3"
  },
  "language_info": {
   "codemirror_mode": {
    "name": "ipython",
    "version": 3
   },
   "file_extension": ".py",
   "mimetype": "text/x-python",
   "name": "python",
   "nbconvert_exporter": "python",
   "pygments_lexer": "ipython3",
   "version": "3.7.0"
  }
 },
 "nbformat": 4,
 "nbformat_minor": 2
}
