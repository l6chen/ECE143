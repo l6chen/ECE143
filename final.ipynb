{
 "cells": [
  {
   "cell_type": "code",
   "execution_count": 1,
   "metadata": {},
   "outputs": [],
   "source": [
    "%matplotlib inline"
   ]
  },
  {
   "cell_type": "markdown",
   "metadata": {},
   "source": [
    "# Big\n",
    "## Bigish\n",
    "### Medium\n",
    "\n",
    "*italic*\n",
    "**bold**\n",
    "\n",
    "normal\n",
    "\n",
    "- option 1\n",
    "- option 2\n",
    "\n",
    "`code!`"
   ]
  },
  {
   "cell_type": "code",
   "execution_count": 2,
   "metadata": {},
   "outputs": [
    {
     "ename": "ModuleNotFoundError",
     "evalue": "No module named 'geopandas'",
     "output_type": "error",
     "traceback": [
      "\u001b[1;31m---------------------------------------------------------------------------\u001b[0m",
      "\u001b[1;31mModuleNotFoundError\u001b[0m                       Traceback (most recent call last)",
      "\u001b[1;32m<ipython-input-2-15f4f7f11bfb>\u001b[0m in \u001b[0;36m<module>\u001b[1;34m()\u001b[0m\n\u001b[1;32m----> 1\u001b[1;33m \u001b[1;32mimport\u001b[0m \u001b[0mstop_arrest_correlation_gis\u001b[0m\u001b[1;33m\u001b[0m\u001b[0m\n\u001b[0m\u001b[0;32m      2\u001b[0m \u001b[1;32mimport\u001b[0m \u001b[0mTime_StopNumber\u001b[0m\u001b[1;33m\u001b[0m\u001b[0m\n\u001b[0;32m      3\u001b[0m \u001b[1;32mimport\u001b[0m \u001b[0mage_gender_searched\u001b[0m \u001b[1;32mas\u001b[0m \u001b[0mags\u001b[0m\u001b[1;33m\u001b[0m\u001b[0m\n\u001b[0;32m      4\u001b[0m \u001b[1;32mimport\u001b[0m \u001b[0mrace_arrest_correlation\u001b[0m \u001b[1;32mas\u001b[0m \u001b[0mrap\u001b[0m\u001b[1;33m\u001b[0m\u001b[0m\n\u001b[0;32m      5\u001b[0m \u001b[1;33m\u001b[0m\u001b[0m\n",
      "\u001b[1;32m~\\Desktop\\2018.10-2018.12\\ECE143\\ECE143-master\\stop_arrest_correlation_gis.py\u001b[0m in \u001b[0;36m<module>\u001b[1;34m()\u001b[0m\n\u001b[0;32m      2\u001b[0m \u001b[1;32mimport\u001b[0m \u001b[0mnumpy\u001b[0m \u001b[1;32mas\u001b[0m \u001b[0mnp\u001b[0m\u001b[1;33m\u001b[0m\u001b[0m\n\u001b[0;32m      3\u001b[0m \u001b[1;32mimport\u001b[0m \u001b[0mmatplotlib\u001b[0m\u001b[1;33m.\u001b[0m\u001b[0mpyplot\u001b[0m \u001b[1;32mas\u001b[0m \u001b[0mplt\u001b[0m\u001b[1;33m\u001b[0m\u001b[0m\n\u001b[1;32m----> 4\u001b[1;33m \u001b[1;32mimport\u001b[0m \u001b[0mgeopandas\u001b[0m\u001b[1;33m\u001b[0m\u001b[0m\n\u001b[0m\u001b[0;32m      5\u001b[0m \u001b[1;33m\u001b[0m\u001b[0m\n\u001b[0;32m      6\u001b[0m \u001b[0mpd\u001b[0m\u001b[1;33m.\u001b[0m\u001b[0moptions\u001b[0m\u001b[1;33m.\u001b[0m\u001b[0mdisplay\u001b[0m\u001b[1;33m.\u001b[0m\u001b[0mmax_rows\u001b[0m \u001b[1;33m=\u001b[0m \u001b[1;36m10\u001b[0m\u001b[1;33m\u001b[0m\u001b[0m\n",
      "\u001b[1;31mModuleNotFoundError\u001b[0m: No module named 'geopandas'"
     ]
    }
   ],
   "source": [
    "import stop_arrest_correlation_gis\n",
    "import Time_StopNumber\n",
    "import age_gender_searched as ags\n",
    "import race_arrest_correlation as rap\n",
    "\n",
    "import numpy as np\n",
    "import matplotlib.pyplot as plt\n",
    "from matplotlib.pylab import subplots\n",
    "from matplotlib import font_manager as fm"
   ]
  },
  {
   "cell_type": "markdown",
   "metadata": {},
   "source": [
    "### Part 1: Vehicle stop and arrest per location\n",
    "\n",
    "Here we will visualize the frequency of vehicle stops by region in San Diego. We use geopandas to process the geographical data and assign our arrest/stop information to the different areas in San Diego.\n",
    "\n",
    "Our python file obtains the amount of stops and arrests for each police beat, and then assigns each beat to a county division. We then use darker colors to indicate a higher frequency and lighter colors to indicate lower frequencies."
   ]
  },
  {
   "cell_type": "code",
   "execution_count": null,
   "metadata": {},
   "outputs": [],
   "source": [
    "divsums_stop, divsums_arrest = stop_arrest_correlation_gis.create_data()"
   ]
  },
  {
   "cell_type": "code",
   "execution_count": null,
   "metadata": {},
   "outputs": [],
   "source": [
    "ax = divsums_stop.plot(column='arrested', figsize=(30, 12), cmap='OrRd', legend=True)\n",
    "divsums_stop.apply(lambda x: ax.annotate(s=x.div_name.capitalize(), xy=x.geometry.centroid.coords[0], ha='center'),axis=1)\n",
    "ax.set_axis_off()"
   ]
  },
  {
   "cell_type": "markdown",
   "metadata": {},
   "source": [
    "As evident by the map, the Northern section of San Diego contains a higher amount of vehicle stops. This could be caused by many different factors, such as a higher amount of traffic."
   ]
  },
  {
   "cell_type": "code",
   "execution_count": null,
   "metadata": {},
   "outputs": [],
   "source": [
    "ax = divsums_arrest.plot(column='arrested', figsize=(30, 12), cmap='OrRd', legend=True)\n",
    "divsums_arrest.apply(lambda x: ax.annotate(s=x.div_name.capitalize(), xy=x.geometry.centroid.coords[0], ha='center'),axis=1)\n",
    "ax.set_axis_off()"
   ]
  },
  {
   "cell_type": "markdown",
   "metadata": {},
   "source": [
    "Once we analize the **probability** of arrest given that the vehicle can be stopped, we see a radical shift in frequency. Mid-city San Diego has a much higher probability of arrest. According to the San Diego Union-Tribune, this area is one of the most ethnically diverse places in the country. Racial bias might be a component as to why this is happening."
   ]
  },
  {
   "cell_type": "markdown",
   "metadata": {},
   "source": [
    "### Part 2: Time and stop number\n",
    "\n",
    "In this part, we will visualize the the result of vihecle stops as well as the relationship between time and number of stops. \n",
    "\n",
    "We first cleaned the original data and classified the results of stops into 7 classes. And then we used stacked bars plot to show how those stops distribute in the total number of stops To make the results distribution more clear, we utilized line plot to show the ratio each result takes up. \n",
    "For the time relationship, we took advantage of bars to clarify the relationship between week and number, month and number, time period and number."
   ]
  },
  {
   "cell_type": "code",
   "execution_count": null,
   "metadata": {},
   "outputs": [],
   "source": [
    "data = Time_StopNumber.TimeInterval_StopNumber()\n",
    "columns = ['0-1', '1-2', '2-3', '3-4', '4-5', '5-6', '6-7', '7-8', '8-9', '9-10', '10-11', '11-12', '12-13', '13-14', '14-15', '15-16', '16-17', '17-18', '18-19', '19-20', '20-21', '21-22', '22-23', '23-00']\n",
    "rows = [\"Citation\", \"Verbal Warning\", \"Written Warning\", \"Searched\", \"Field Interview\",\"Arrested\",\"Other\"]\n",
    "\n",
    "values = np.arange(0, 10000, 1000)\n",
    "value_incr = 1\n",
    "colors = plt.cm.tab20b(np.linspace(0, 1, len(rows)))\n",
    "index = np.arange(len(columns)) \n",
    "bar_width = 0.8\n",
    "y_offset = np.zeros(len(columns))\n",
    "\n",
    "for row in range(len(data)):\n",
    "    plt.bar(index, data[row], bar_width, bottom=y_offset, color=colors[row], label=rows[row])\n",
    "    y_offset = y_offset + data[row]\n",
    "    \n",
    "plt.ylabel(\"number of stops\", fontsize=16)\n",
    "plt.xlabel(\"time interval\", fontsize=16)\n",
    "plt.yticks(values * value_incr, ['%d' % val for val in values])\n",
    "plt.xticks(index, columns, fontsize=10)\n",
    "plt.title('Stopped number VS time',fontsize=16)\n",
    "plt.legend(prop={'size':16})\n",
    "fig = plt.gcf()\n",
    "fig.set_size_inches(16, 9)"
   ]
  },
  {
   "cell_type": "markdown",
   "metadata": {},
   "source": [
    "As is shown in the picture, time period from **8:00-11:00** is the most likely time period to be stopped in a day. This may be due to the high volume of traffic of going to work."
   ]
  },
  {
   "cell_type": "code",
   "execution_count": null,
   "metadata": {},
   "outputs": [],
   "source": [
    "data_ratio = Time_StopNumber.TimeInterval_ResultRatio()\n",
    "columns = ['0-1', '1-2', '2-3', '3-4', '4-5', '5-6', '6-7', '7-8', '8-9', '9-10', '10-11', '11-12', '12-13', '13-14', '14-15', '15-16', '16-17', '17-18', '18-19', '19-20', '20-21', '21-22', '22-23', '23-00']\n",
    "rows = [\"Citation\", \"Verbal Warning\", \"Written Warning\", \"Searched\", \"Field Interview\",\"Arrested\",\"Other\"]\n",
    "\n",
    "colors = plt.cm.Pastel2(np.linspace(0, 1, len(rows)))\n",
    "index = np.arange(len(columns)) \n",
    "bar_width = 0.8\n",
    "y_offset = np.zeros(len(columns))\n",
    "\n",
    "for row in range(len(data_ratio)):\n",
    "    plt.plot(index, data[row], color=colors[row], label=rows[row])\n",
    "    \n",
    "plt.ylabel(\"result ratio\", fontsize=16)\n",
    "plt.xlabel(\"time interval\", fontsize=16)\n",
    "plt.xticks(index, columns, fontsize=10)\n",
    "plt.title('result ratio VS time',fontsize=16)\n",
    "plt.legend(prop={'size':16})\n",
    "fig = plt.gcf()\n",
    "fig.set_size_inches(16, 9)"
   ]
  },
  {
   "cell_type": "markdown",
   "metadata": {},
   "source": [
    "The most common result is **Citation**, which ususlly takes more than 60 precents of stops per time interval. The second common result is **Verbal Waring**. Serious results ratio like **Searched, Arrested** is very low."
   ]
  },
  {
   "cell_type": "code",
   "execution_count": null,
   "metadata": {},
   "outputs": [],
   "source": [
    "data = Time_StopNumber.month_StopNumber()\n",
    "columns = [\"Jan\", \"Feb\", \"Mar\", \"Apr\", \"May\", \"June\", \"July\", \"Aug\", \"Sep\",\"Oct\", \"Nov\", \"Dec\"]\n",
    "index = np.arange(len(columns)) \n",
    "bar_width = 0.8\n",
    "plt.bar(index, data, bar_width, color=plt.cm.Pastel2(0.2), label=columns)\n",
    "plt.ylabel(\"number of stops\", fontsize=16)\n",
    "plt.ylim((4000,11000))\n",
    "plt.xlabel(\"month\", fontsize=16)\n",
    "plt.xticks(index, columns, fontsize=10)\n",
    "plt.title('Stopped number VS Month',fontsize=16)\n",
    "fig = plt.gcf()\n",
    "fig.set_size_inches(16, 6)"
   ]
  },
  {
   "cell_type": "markdown",
   "metadata": {},
   "source": [
    "As is show in the picture, there is no obvious stop number difference among months. **Febuary** is relatively higher than other months."
   ]
  },
  {
   "cell_type": "code",
   "execution_count": null,
   "metadata": {},
   "outputs": [],
   "source": [
    "data = Time_StopNumber.week_StopNumber()\n",
    "columns = [\"Mon\", \"Tue\", \"Wed\", \"Thu\", \"Fri\", \"Sat\", \"Sun\"]\n",
    "index = np.arange(len(columns)) \n",
    "bar_width = 0.8\n",
    "plt.bar(index, data, bar_width, color=plt.cm.Pastel2(0.2), label=columns)\n",
    "plt.ylabel(\"number of stops\", fontsize=16)\n",
    "plt.xlabel(\"week\", fontsize=16)\n",
    "plt.xticks(index, columns, fontsize=10)\n",
    "plt.title('Stopped number VS week',fontsize=16)\n",
    "fig = plt.gcf()\n",
    "fig.set_size_inches(16, 9)"
   ]
  },
  {
   "cell_type": "markdown",
   "metadata": {},
   "source": [
    "This picture shows that stop number in **weekday** is **30%-80%** more than the stop number in **weekend**"
   ]
  },
  {
   "cell_type": "markdown",
   "metadata": {},
   "source": [
    "### Part 3: Age, Gender and Searched Probability\n",
    "\n",
    "Generally, in this part, we will focus on the correlation among age, gender and the probability of being searched when people are stopped.\n",
    "\n",
    "- First obtained the clean dataset of three columns: *subject_sex*, *subject_age* and *searched*.\n",
    "- Second draw the distribution of stop times in terms of age and gender.\n",
    "- Third draw the distribution of searched times in terms of age and gender.\n",
    "- Finally draw the distribution of searched probability if stopped by calculating the ratio of searched times to stopped times.\n"
   ]
  },
  {
   "cell_type": "markdown",
   "metadata": {},
   "source": [
    "After cleaning dataset, we can draw the following pictures:"
   ]
  },
  {
   "cell_type": "code",
   "execution_count": null,
   "metadata": {},
   "outputs": [],
   "source": [
    "#Draw the distribution of stop times in terms of age and gender.\n",
    "male_stopped_array, female_stopped_array = ags.create_data(mode='stopped')\n",
    "fig,ax=subplots()\n",
    "ax.plot(male_stopped_array[0],male_stopped_array[1],female_stopped_array[0],female_stopped_array[1])\n",
    "ax.legend(('Male','Female'),loc='best',prop={'size':24})\n",
    "plt.xlabel('Age',fontsize=16)\n",
    "plt.ylabel('Stopped Times',fontsize=16)\n",
    "plt.title('Stopped Times VS Age & Gender',fontsize=16)\n",
    "fig.set_size_inches(16, 9)"
   ]
  },
  {
   "cell_type": "markdown",
   "metadata": {},
   "source": [
    "As shown in the picture above, we can conclude that:\n",
    "   - Male drivers are stopped more than female drivers.\n",
    "   - Drivers of 20 ~ 40 year-old account for most stops"
   ]
  },
  {
   "cell_type": "markdown",
   "metadata": {},
   "source": [
    "Followed by searched times:"
   ]
  },
  {
   "cell_type": "code",
   "execution_count": null,
   "metadata": {},
   "outputs": [],
   "source": [
    "#Draw the distribution of searched times in terms of age and gender.\n",
    "male_searched_array, female_searched_array = ags.create_data(mode='searched')\n",
    "fig,ax=subplots()\n",
    "ax.plot(male_searched_array[0],male_searched_array[1],female_searched_array[0],female_searched_array[1])\n",
    "ax.legend(('Male','Female'),loc='best',prop={'size':24})\n",
    "plt.xlabel('Age',fontsize=16)\n",
    "plt.ylabel('Searched Times',fontsize=16)\n",
    "plt.title('Searched Times VS Age & Gender',fontsize=16)\n",
    "fig.set_size_inches(16, 9)"
   ]
  },
  {
   "cell_type": "markdown",
   "metadata": {},
   "source": [
    "Similar things happened there, but:\n",
    "  - The searched times line of female is much smoother than that of male\n",
    "  - And the searched times of male are still higher than that of female\n",
    "\n",
    "However searched times cannot help us to conclude you are more likely to be searched at what age or be man or be woman.\n",
    "Therefore, we need to divide searched times by stopped times, so that we can find out the relation of those factors among one another."
   ]
  },
  {
   "cell_type": "code",
   "execution_count": null,
   "metadata": {},
   "outputs": [],
   "source": [
    "#Draw the distribution of searched probabilty in terms of age and gender.\n",
    "male_ratio_array, female_ratio_array = ags.create_data(mode='ratio')\n",
    "fig,ax=subplots()\n",
    "ax.plot(male_ratio_array[0],male_ratio_array[1],female_ratio_array[0],female_ratio_array[1])\n",
    "ax.plot(male_ratio_array[0],len(male_ratio_array[0]+1)*[np.mean(male_ratio_array[1])],\\\n",
    "female_ratio_array[0],len(female_ratio_array[0]+1)*[np.mean(female_ratio_array[1])],linestyle=\"--\")\n",
    "ax.legend(('Male','Female','Mean of Male','Mean of Female'),loc='best',prop={'size':20})\n",
    "plt.xlabel('Age',fontsize=16)\n",
    "plt.ylabel('Searched Times/Stopped Times',fontsize=16)\n",
    "plt.title('Searched Probability VS Age & Gender',fontsize=16)\n",
    "fig.set_size_inches(16, 9)"
   ]
  },
  {
   "cell_type": "markdown",
   "metadata": {},
   "source": [
    "Now we can see the probability of being searched when stopped. How ever there are some special cases that are unhelpful for us to go to conclusion:\n",
    "   - People at age of like 15 are not allowed to drive, when stopped, they are very likely to be stopped. There are only 3 people under 16 (legally driving age) in our dataset, and one of them is searched.\n",
    "   - People who are very old are more likely to be searched too. There are 2 people over 90 stopped are one of them being searched.\n",
    "\n",
    "So let's zoom in the picture and focus on the age of 20~90."
   ]
  },
  {
   "cell_type": "code",
   "execution_count": null,
   "metadata": {},
   "outputs": [],
   "source": [
    "#Draw the distribution of searched probabilty in terms of age and gender.\n",
    "\n",
    "fig,ax=subplots()\n",
    "ax.plot(male_ratio_array[0][1:-1],male_ratio_array[1][1:-1],female_ratio_array[0],female_ratio_array[1])\n",
    "ax.plot(male_ratio_array[0],len(male_ratio_array[0]+1)*[np.mean(male_ratio_array[1])],\\\n",
    "female_ratio_array[0],len(female_ratio_array[0]+1)*[np.mean(female_ratio_array[1])],linestyle=\"--\")\n",
    "ax.legend(('Male','Female','Mean of Male','Mean of Female'),loc='best',prop={'size':16})\n",
    "plt.xlabel('Age',fontsize=16)\n",
    "plt.ylabel('Searched Times/Stopped Times',fontsize=16)\n",
    "plt.title('Searched Probability VS Age & Gender',fontsize=16)\n",
    "fig.set_size_inches(16, 9)"
   ]
  },
  {
   "cell_type": "markdown",
   "metadata": {},
   "source": [
    "After seeing the chart above, we can make some conclusions:\n",
    "  - Men are more likely to be searched, about two times as much as the women. But both the probabilities are very low.\n",
    "  - Older people are less likely to be searched than the young. But the decrement of the probabilities is tiny."
   ]
  },
  {
   "cell_type": "markdown",
   "metadata": {},
   "source": [
    "### Part 4: Race distribution of arrest\n",
    "\n",
    "In this part we will focus on the race distribution of subjects who were arrested.And also,we are interested in the ratio of arrested for each race."
   ]
  },
  {
   "cell_type": "markdown",
   "metadata": {},
   "source": [
    "First,by analyzing race of arrested subjects, we come out with this pie chart,which shows the race distribution of subjects who were arrested. "
   ]
  },
  {
   "cell_type": "code",
   "execution_count": null,
   "metadata": {},
   "outputs": [],
   "source": [
    "#draw the pie chart of race distribution in arrested subjects\n",
    "import matplotlib.pyplot as plt\n",
    "from matplotlib import font_manager as fm\n",
    "import race_arrest_correlation as rap\n",
    "labels=['HISPANIC','WHITE','BLACK','OTHER']\n",
    "plt.figure(figsize=(20,25))\n",
    "patches,l_text,p_text=plt.pie(rap.sizes, labels=labels, \n",
    "        autopct='%1.1f%%', shadow=False, startangle=90)\n",
    "proptease = fm.FontProperties()\n",
    "proptease.set_size('xx-large')\n",
    "# font size include: ‘xx-small’,x-small’,'small’,'medium’,‘large’,‘x-large’,‘xx-large’ or number, e.g. '12'\n",
    "plt.setp(l_text, fontproperties=proptease)\n",
    "plt.setp(p_text, fontproperties=proptease)\n",
    "\n",
    "plt.axis('equal')\n",
    "plt.legend(fontsize=20,loc=1)\n",
    "plt.title(\"race distribution in arrested subjects\",fontsize=20)"
   ]
  },
  {
   "cell_type": "markdown",
   "metadata": {},
   "source": [
    "We can observe that arrested subjects mainly consist of Hispanic,White,and Black,which is consistant with San Diego's ethnic composition.And also,there are many other races including Aisan,Pacific islander,Indian,etc."
   ]
  },
  {
   "cell_type": "markdown",
   "metadata": {},
   "source": [
    "And this is the pie chart of the ethnic and racial breakdown of San Diego. We used the 2017 census data for this from: \n",
    "\n",
    "https://www.census.gov/quickfacts/fact/table/sandiegocountycalifornia,ca/PST045217"
   ]
  },
  {
   "cell_type": "code",
   "execution_count": null,
   "metadata": {},
   "outputs": [],
   "source": [
    "#draw the race distribution in San Diego 2017\n",
    "labels=['HISPANIC','WHITE','BLACK','OTHER']\n",
    "sizes=[33.9,45.5,5.5,15.1]\n",
    "plt.figure(figsize=(20,25))\n",
    "patches,l_text,p_text=plt.pie(sizes, labels=labels, \n",
    "        autopct='%1.1f%%', shadow=False, startangle=90)\n",
    "proptease = fm.FontProperties()\n",
    "proptease.set_size('xx-large')\n",
    "# font size include: ‘xx-small’,x-small’,'small’,'medium’,‘large’,‘x-large’,‘xx-large’ or number, e.g. '12'\n",
    "plt.setp(l_text, fontproperties=proptease)\n",
    "plt.setp(p_text, fontproperties=proptease)\n",
    "\n",
    "plt.axis('equal')\n",
    "plt.legend(fontsize=20,loc=1)\n",
    "plt.title(\"race distribution in San Diego 2017\",fontsize=20)\n"
   ]
  },
  {
   "cell_type": "markdown",
   "metadata": {},
   "source": [
    "By comparing it with the race distribution of arrested subjects, we can find that they are not proportional."
   ]
  }
 ],
 "metadata": {
  "kernelspec": {
   "display_name": "Python 3",
   "language": "python",
   "name": "python3"
  },
  "language_info": {
   "codemirror_mode": {
    "name": "ipython",
    "version": 3
   },
   "file_extension": ".py",
   "mimetype": "text/x-python",
   "name": "python",
   "nbconvert_exporter": "python",
   "pygments_lexer": "ipython3",
   "version": "3.7.0"
  }
 },
 "nbformat": 4,
 "nbformat_minor": 2
}
