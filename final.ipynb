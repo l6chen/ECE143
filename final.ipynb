{
 "cells": [
  {
   "cell_type": "code",
   "execution_count": 1,
   "metadata": {},
   "outputs": [],
   "source": [
    "%matplotlib inline"
   ]
  },
  {
   "cell_type": "markdown",
   "metadata": {},
   "source": [
    "# Big\n",
    "## Bigish\n",
    "### Medium\n",
    "\n",
    "*italic*\n",
    "**bold**\n",
    "\n",
    "normal\n",
    "\n",
    "- option 1\n",
    "- option 2\n",
    "\n",
    "`code!`"
   ]
  },
  {
   "cell_type": "code",
   "execution_count": 2,
   "metadata": {},
   "outputs": [
    {
     "ename": "SyntaxError",
     "evalue": "unexpected EOF while parsing (stop_arrest_correlation_gis.py, line 143)",
     "output_type": "error",
     "traceback": [
      "Traceback \u001b[0;36m(most recent call last)\u001b[0m:\n",
      "  File \u001b[1;32m\"/usr/local/anaconda3/lib/python3.7/site-packages/IPython/core/interactiveshell.py\"\u001b[0m, line \u001b[1;32m3267\u001b[0m, in \u001b[1;35mrun_code\u001b[0m\n    exec(code_obj, self.user_global_ns, self.user_ns)\n",
      "\u001b[0;36m  File \u001b[0;32m\"<ipython-input-2-15f4f7f11bfb>\"\u001b[0;36m, line \u001b[0;32m1\u001b[0;36m, in \u001b[0;35m<module>\u001b[0;36m\u001b[0m\n\u001b[0;31m    import stop_arrest_correlation_gis\u001b[0m\n",
      "\u001b[0;36m  File \u001b[0;32m\"/Users/raulpegan/Development/ECE143/stop_arrest_correlation_gis.py\"\u001b[0;36m, line \u001b[0;32m143\u001b[0m\n\u001b[0;31m    \u001b[0m\n\u001b[0m    ^\u001b[0m\n\u001b[0;31mSyntaxError\u001b[0m\u001b[0;31m:\u001b[0m unexpected EOF while parsing\n"
     ]
    }
   ],
   "source": [
    "import stop_arrest_correlation_gis\n",
    "import Time_StopNumber\n",
    "import age_gender_searched as ags\n",
    "import race_arrest_correlation as rap\n",
    "\n",
    "import numpy as np\n",
    "import matplotlib.pyplot as plt\n",
    "from matplotlib.pylab import subplots\n",
    "from matplotlib import font_manager as fm"
   ]
  },
  {
   "cell_type": "markdown",
   "metadata": {},
   "source": [
    "### Part 1: Vehicle stop and arrest per location\n",
    "\n",
    "Here we will visualize the frequency of vehicle stops by region in San Diego. We use geopandas to process the geographical data and assign our arrest/stop information to the different areas in San Diego.\n",
    "\n",
    "Our python file obtains the amount of stops and arrests for each police beat, and then assigns each beat to a county division. We then use darker colors to indicate a higher frequency and lighter colors to indicate lower frequencies."
   ]
  },
  {
   "cell_type": "code",
   "execution_count": null,
   "metadata": {},
   "outputs": [],
   "source": [
    "divsums_stop = stop_arrest_correlation_gis.create_stop_data()\n",
    "stop_arrest_correlation_gis.plot_map(divsums_stop)"
   ]
  },
  {
   "cell_type": "markdown",
   "metadata": {},
   "source": [
    "As evident by the map, the Northern section of San Diego contains a higher amount of vehicle stops. This could be caused by many different factors, such as a higher amount of traffic."
   ]
  },
  {
   "cell_type": "code",
   "execution_count": null,
   "metadata": {},
   "outputs": [],
   "source": [
    "divsums_arrest = stop_arrest_correlation_gis.create_arrest_data()\n",
    "stop_arrest_correlation_gis.plot_map(divsums_arrest)"
   ]
  },
  {
   "cell_type": "markdown",
   "metadata": {},
   "source": [
    "Once we analize the **probability** of arrest given that the vehicle can be stopped, we see a radical shift in frequency. Mid-city San Diego has a much higher probability of arrest. According to the San Diego Union-Tribune, this area is one of the most ethnically diverse places in the country. Racial bias might be a component as to why this is happening."
   ]
  },
  {
   "cell_type": "markdown",
   "metadata": {},
   "source": [
    "### Part 2: Time and stop number\n",
    "\n",
    "In this part, we will visualize the the result of vihecle stops as well as the relationship between time and number of stops. \n",
    "\n",
    "We first cleaned the original data and classified the results of stops into 7 classes. And then we used stacked bars plot to show how those stops distribute in the total number of stops To make the results distribution more clear, we utilized line plot to show the ratio each result takes up. \n",
    "For the time relationship, we took advantage of bars to clarify the relationship between week and number, month and number, time period and number."
   ]
  },
  {
   "cell_type": "code",
   "execution_count": null,
   "metadata": {},
   "outputs": [],
   "source": [
    "data = Time_StopNumber.TimeInterval_StopNumber()\n",
    "Time_StopNumber.plot_TimeInterval_StopNumber(data)"
   ]
  },
  {
   "cell_type": "markdown",
   "metadata": {},
   "source": [
    "As is shown in the picture, time period from **8:00-11:00** is the most likely time period to be stopped in a day. This may be due to the high volume of traffic of going to work."
   ]
  },
  {
   "cell_type": "code",
   "execution_count": null,
   "metadata": {},
   "outputs": [],
   "source": [
    "data_ratio = Time_StopNumber.TimeInterval_ResultRatio()\n",
    "Time_StopNumber.plot_TimeInterval_ResultRatio(data_ratio)"
   ]
  },
  {
   "cell_type": "markdown",
   "metadata": {},
   "source": [
    "The most common result is **Citation**, which ususlly takes more than 60 precents of stops per time interval. The second common result is **Verbal Waring**. Serious results ratio like **Searched, Arrested** is very low."
   ]
  },
  {
   "cell_type": "code",
   "execution_count": null,
   "metadata": {},
   "outputs": [],
   "source": [
    "data = Time_StopNumber.month_StopNumber()\n",
    "Time_StopNumber.plot_month_StopNumber(data)"
   ]
  },
  {
   "cell_type": "markdown",
   "metadata": {},
   "source": [
    "As is show in the picture, there is no obvious stop number difference among months. **Febuary** is relatively higher than other months."
   ]
  },
  {
   "cell_type": "code",
   "execution_count": null,
   "metadata": {},
   "outputs": [],
   "source": [
    "data = Time_StopNumber.week_StopNumber()\n",
    "Time_StopNumber.plot_week_StopNumber(data)"
   ]
  },
  {
   "cell_type": "markdown",
   "metadata": {},
   "source": [
    "This picture shows that stop number in **weekday** is **40%-80%** more than the stop number in **weekend**"
   ]
  },
  {
   "cell_type": "markdown",
   "metadata": {},
   "source": [
    "### Part 3: Age, Gender and Searched Probability\n",
    "\n",
    "Generally, in this part, we will focus on the correlation among age, gender and the probability of being searched when people are stopped.\n",
    "\n",
    "- First obtained the clean dataset of three columns: *subject_sex*, *subject_age* and *searched*.\n",
    "- Second draw the distribution of stop times in terms of age and gender.\n",
    "- Third draw the distribution of searched times in terms of age and gender.\n",
    "- Finally draw the distribution of searched probability if stopped by calculating the ratio of searched times to stopped times.\n"
   ]
  },
  {
   "cell_type": "markdown",
   "metadata": {},
   "source": [
    "After cleaning dataset, we can draw the following pictures:"
   ]
  },
  {
   "cell_type": "code",
   "execution_count": null,
   "metadata": {},
   "outputs": [],
   "source": [
    "#Draw the distribution of stop times in terms of age and gender.\n",
    "ags.plot('stopped')\n"
   ]
  },
  {
   "cell_type": "markdown",
   "metadata": {},
   "source": [
    "As shown in the picture above, we can conclude that:\n",
    "   - Male drivers are stopped more than female drivers.\n",
    "   - Drivers of 20 ~ 40 year-old account for most stops"
   ]
  },
  {
   "cell_type": "markdown",
   "metadata": {},
   "source": [
    "Followed by searched times:"
   ]
  },
  {
   "cell_type": "code",
   "execution_count": null,
   "metadata": {},
   "outputs": [],
   "source": [
    "#Draw the distribution of searched times in terms of age and gender.\n",
    "ags.plot('searched')"
   ]
  },
  {
   "cell_type": "markdown",
   "metadata": {},
   "source": [
    "Similar things happened there, but:\n",
    "  - The searched times line of female is much smoother than that of male\n",
    "  - And the searched times of male are still higher than that of female\n",
    "\n",
    "However searched times cannot help us to conclude you are more likely to be searched at what age or be man or be woman.\n",
    "Therefore, we need to divide searched times by stopped times, so that we can find out the relation of those factors among one another."
   ]
  },
  {
   "cell_type": "code",
   "execution_count": null,
   "metadata": {},
   "outputs": [],
   "source": [
    "#Draw the distribution of searched probabilty in terms of age and gender.\n",
    "ags.plot('ratio')"
   ]
  },
  {
   "cell_type": "markdown",
   "metadata": {},
   "source": [
    "Now we can see the probability of being searched when stopped. How ever there are some special cases that are unhelpful for us to go to conclusion:\n",
    "   - People at age of like 15 are not allowed to drive, when stopped, they are very likely to be stopped. There are only 3 people under 16 (legally driving age) in our dataset, and one of them is searched.\n",
    "   - People who are very old are more likely to be searched too. There are 2 people over 90 stopped are one of them being searched.\n",
    "\n",
    "So let's zoom in the picture and focus on the age of 20~90."
   ]
  },
  {
   "cell_type": "code",
   "execution_count": null,
   "metadata": {},
   "outputs": [],
   "source": [
    "#Draw the distribution of searched probabilty in terms of age and gender.\n",
    "ags.plot('ratio',zoom='y')"
   ]
  },
  {
   "cell_type": "markdown",
   "metadata": {},
   "source": [
    "After seeing the chart above, we can make some conclusions:\n",
    "  - Men are more likely to be searched, about two times as much as the women. But both the probabilities are very low.\n",
    "  - Older people are less likely to be searched than the young. But the decrement of the probabilities is tiny."
   ]
  },
  {
   "cell_type": "markdown",
   "metadata": {},
   "source": [
    "### Part 4: Race distribution of arrest\n",
    "\n",
    "In this part we will focus on the race distribution of subjects who were arrested.And also,we are interested in the ratio of arrested for each race."
   ]
  },
  {
   "cell_type": "markdown",
   "metadata": {},
   "source": [
    "First,by analyzing race of arrested subjects, we come out with this pie chart,which shows the race distribution of subjects who were arrested. "
   ]
  },
  {
   "cell_type": "code",
   "execution_count": null,
   "metadata": {},
   "outputs": [],
   "source": [
    "#draw the pie chart of race distribution in arrested subjects\n",
    "import matplotlib.pyplot as plt\n",
    "from matplotlib import font_manager as fm\n",
    "import race_arrest_correlation as rap\n",
    "labels=['HISPANIC','WHITE','BLACK','OTHER']\n",
    "plt.figure(figsize=(20,25))\n",
    "patches,l_text,p_text=plt.pie(rap.sizes, labels=labels, \n",
    "        autopct='%1.1f%%', shadow=False, startangle=90)\n",
    "proptease = fm.FontProperties()\n",
    "proptease.set_size('xx-large')\n",
    "# font size include: ‘xx-small’,x-small’,'small’,'medium’,‘large’,‘x-large’,‘xx-large’ or number, e.g. '12'\n",
    "plt.setp(l_text, fontproperties=proptease)\n",
    "plt.setp(p_text, fontproperties=proptease)\n",
    "\n",
    "plt.axis('equal')\n",
    "plt.legend(fontsize=20,loc=1)\n",
    "plt.title(\"race distribution in arrested subjects\",fontsize=20)"
   ]
  },
  {
   "cell_type": "markdown",
   "metadata": {},
   "source": [
    "We can observe that arrested subjects mainly consist of Hispanic,White,and Black,which is consistant with San Diego's ethnic composition.And also,there are many other races including Aisan,Pacific islander,Indian,etc."
   ]
  },
  {
   "cell_type": "markdown",
   "metadata": {},
   "source": [
    "And this is the pie chart of the ethnic and racial breakdown of San Diego. We used the 2017 census data for this from: \n",
    "\n",
    "https://www.census.gov/quickfacts/fact/table/sandiegocountycalifornia,ca/PST045217"
   ]
  },
  {
   "cell_type": "code",
   "execution_count": null,
   "metadata": {},
   "outputs": [],
   "source": [
    "#draw the race distribution in San Diego 2017\n",
    "labels=['HISPANIC','WHITE','BLACK','OTHER']\n",
    "sizes=[33.9,45.5,5.5,15.1]\n",
    "plt.figure(figsize=(20,25))\n",
    "patches,l_text,p_text=plt.pie(sizes, labels=labels, \n",
    "        autopct='%1.1f%%', shadow=False, startangle=90)\n",
    "proptease = fm.FontProperties()\n",
    "proptease.set_size('xx-large')\n",
    "# font size include: ‘xx-small’,x-small’,'small’,'medium’,‘large’,‘x-large’,‘xx-large’ or number, e.g. '12'\n",
    "plt.setp(l_text, fontproperties=proptease)\n",
    "plt.setp(p_text, fontproperties=proptease)\n",
    "\n",
    "plt.axis('equal')\n",
    "plt.legend(fontsize=20,loc=1)\n",
    "plt.title(\"race distribution in San Diego 2017\",fontsize=20)\n"
   ]
  },
  {
   "cell_type": "markdown",
   "metadata": {},
   "source": [
    "By comparing it with the race distribution of arrested subjects, we can find that they are not proportional."
   ]
  }
 ],
 "metadata": {
  "kernelspec": {
   "display_name": "Python 3",
   "language": "python",
   "name": "python3"
  },
  "language_info": {
   "codemirror_mode": {
    "name": "ipython",
    "version": 3
   },
   "file_extension": ".py",
   "mimetype": "text/x-python",
   "name": "python",
   "nbconvert_exporter": "python",
   "pygments_lexer": "ipython3",
   "version": "3.7.0"
  }
 },
 "nbformat": 4,
 "nbformat_minor": 2
}
