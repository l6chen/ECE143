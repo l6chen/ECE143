{
 "cells": [
  {
   "cell_type": "code",
   "execution_count": 21,
   "metadata": {},
   "outputs": [],
   "source": [
    "import csv\n",
    "import pandas as pd\n",
    "import numpy as np\n",
    "from collections import defaultdict\n",
    "from matplotlib.pylab import subplots\n",
    "import matplotlib.pyplot as plt"
   ]
  },
  {
   "cell_type": "code",
   "execution_count": 22,
   "metadata": {},
   "outputs": [],
   "source": [
    "def cleandata(ori):\n",
    "    '''\n",
    "    This function is intended to clean the bad data(like \"no data/unknow/NaN\") for later processing.\n",
    "    Inputs: \n",
    "    ori: original file name\n",
    "    cor: the target correlation datasets:['subject_sex','subject_age','searched']\n",
    "    Outputs:\n",
    "    cleaned: the cleaned file name\n",
    "    '''\n",
    "    \n",
    "    assert isinstance(ori,str)\n",
    "    cleaned = './datasets/gender_age_searched_cleaned.csv'\n",
    "    with open(ori, mode='r') as in_file, open(cleaned, mode='w') as out_file:\n",
    "        csv_reader = csv.DictReader(in_file)\n",
    "        csv_writer = csv.writer(out_file, delimiter=',', quotechar='\"', quoting=csv.QUOTE_MINIMAL)\n",
    "        line_count = 0\n",
    "        empty_arrest_rows_count = 0\n",
    "        for row in csv_reader:\n",
    "            if line_count == 0:\n",
    "                print(f'Column names are {\", \".join(row)}')\n",
    "                csv_writer.writerow(row)\n",
    "                line_count += 1\n",
    "            else:\n",
    "                if (row[\"searched\"] == 'Y' or row[\"searched\"] == 'N') and len(row[\"subject_age\"]) == 2 and row[\"subject_age\"] != 'No Age' and (row[\"subject_sex\"] == 'M' or row[\"subject_sex\"] == 'F'):\n",
    "                    to_write = []\n",
    "                    for key, val in row.items():\n",
    "                        to_write.append(val)\n",
    "                    csv_writer.writerow(to_write)\n",
    "                else:\n",
    "                    empty_arrest_rows_count += 1\n",
    "                line_count += 1\n",
    "        print(f'Processed {line_count} lines.')\n",
    "        print(f'{empty_arrest_rows_count} emty lines.')#clean data\n",
    "    return cleaned\n",
    "    "
   ]
  },
  {
   "cell_type": "code",
   "execution_count": 23,
   "metadata": {},
   "outputs": [],
   "source": [
    "def read_data(cleaned):\n",
    "    assert isinstance(cleaned,str)\n",
    "    \n",
    "    dataset = pd.read_csv(cleaned)\n",
    "    return dataset"
   ]
  },
  {
   "cell_type": "code",
   "execution_count": 24,
   "metadata": {},
   "outputs": [],
   "source": [
    "def create_data(dataset,mode='ratio'):\n",
    "    \n",
    "    assert isinstance(dataset,pd.core.frame.DataFrame)\n",
    "    assert isinstance(mode,str) and (mode == 'ratio' or mode =='stopped' or mode == 'searched' )\n",
    "    \n",
    "    #create stopped dataset\n",
    "    male_stopped = defaultdict(int)\n",
    "    female_stopped = defaultdict(int)\n",
    "    \n",
    "    for i in range(len(dataset['subject_age'])):#count stopped times\n",
    "        if dataset['subject_sex'][i] == 'M':\n",
    "            male_stopped[dataset['subject_age'][i]] += 1\n",
    "    for i in range(len(dataset['subject_age'])):\n",
    "        if dataset['subject_sex'][i] == 'F':\n",
    "            female_stopped[dataset['subject_age'][i]] += 1\n",
    "\n",
    "    male_stopped_sort = sorted(male_stopped.items(), key=lambda item: item[0])\n",
    "    female_stopped_sort = sorted(female_stopped.items(), key=lambda item: item[0])\n",
    "\n",
    "    male_stopped_array = np.transpose(np.array(male_stopped_sort))\n",
    "    female_stopped_array = np.transpose(np.array(female_stopped_sort))\n",
    "    \n",
    "    #create searched dataset\n",
    "    male_searched=defaultdict(int)\n",
    "    female_searched=defaultdict(int)\n",
    "    \n",
    "    for i in range(len(dataset['subject_age'])):#count searched times\n",
    "        if dataset['searched'][i] == 'Y':\n",
    "            if dataset['subject_sex'][i] == 'M':\n",
    "                male_searched[dataset['subject_age'][i]] += 1\n",
    "            elif dataset['subject_sex'][i] == 'F':\n",
    "                female_searched[dataset['subject_age'][i]] += 1\n",
    "\n",
    "    male_searched_sort = sorted(male_searched.items(), key=lambda item: item[0])#sort for plot\n",
    "    female_searched_sort = sorted(female_searched.items(), key=lambda item: item[0])\n",
    "\n",
    "    male_searched_array = np.transpose(np.array(male_searched_sort))#change to numpy for plot\n",
    "    female_searched_array = np.transpose(np.array(female_searched_sort))\n",
    "\n",
    "    #create searched/stopped dataset\n",
    "    male_ratio = defaultdict(int)\n",
    "    female_ratio = defaultdict(int)\n",
    "\n",
    "    for i in male_searched.keys():\n",
    "        male_ratio[i] = male_searched[i] / male_stopped[i]\n",
    "\n",
    "    for i in female_searched.keys():\n",
    "        female_ratio[i] = female_searched[i] / female_stopped[i]\n",
    "\n",
    "    male_ratio_sort = sorted(male_ratio.items(), key=lambda item: item[0])\n",
    "    female_ratio_sort = sorted(female_ratio.items(), key=lambda item: item[0])\n",
    "\n",
    "    male_ratio_array = np.transpose(np.array(male_ratio_sort))\n",
    "    female_ratio_array = np.transpose(np.array(female_ratio_sort))\n",
    "    \n",
    "    if mode == 'ratio':\n",
    "        return male_ratio_array, female_ratio_array\n",
    "    elif mode == 'stopped':\n",
    "        return male_stopped_array, female_stopped_array\n",
    "    elif mode == 'searched':\n",
    "        return male_searched_array, female_searched_array\n",
    "\n"
   ]
  },
  {
   "cell_type": "code",
   "execution_count": 25,
   "metadata": {},
   "outputs": [],
   "source": [
    "def plot_data(pic='ratio'):\n",
    "    cleanedcsv = cleandata('./datasets/vehicle_stops_2016_datasd_original.csv')\n",
    "    dataset = read_data(cleanedcsv)\n",
    "    male_stopped_array, female_stopped_array = create_data(dataset,mode='stopped')\n",
    "    male_searched_array, female_searched_array = create_data(dataset,mode='searched')\n",
    "    male_ratio_array, female_ratio_array = create_data(dataset,mode='ratio')\n",
    "    if pic == 'ratio':\n",
    "        return male_ratio_array, female_ratio_array\n",
    "    elif pic == 'stopped':\n",
    "        return male_stopped_array, female_stopped_array\n",
    "    elif pic == 'searched':\n",
    "        return male_searched_array, female_searched_array"
   ]
  },
  {
   "cell_type": "code",
   "execution_count": 26,
   "metadata": {},
   "outputs": [
    {
     "name": "stdout",
     "output_type": "stream",
     "text": [
      "Column names are stop_id, stop_cause, service_area, subject_race, subject_sex, subject_age, timestamp, stop_date, stop_time, sd_resident, arrested, searched, obtained_consent, contraband_found, property_seized\n",
      "Processed 103051 lines.\n",
      "23109 emty lines.\n"
     ]
    },
    {
     "data": {
      "image/png": "[encoded data removed]",
      "text/plain": [
       "<Figure size 432x288 with 1 Axes>"
      ]
     },
     "metadata": {},
     "output_type": "display_data"
    }
   ],
   "source": [
    "if (__name__ == \"__main__\"):\n",
    "    male_ratio_array, female_ratio_array = plot_data(pic='ratio')\n",
    "    fig,ax=subplots()\n",
    "    ax.plot(male_ratio_array[0],male_ratio_array[1],female_ratio_array[0],female_ratio_array[1])#all data\n",
    "    ax.plot(male_ratio_array[0],len(male_ratio_array[0]+1)*[np.mean(male_ratio_array[1])],\\\n",
    "    female_ratio_array[0],len(female_ratio_array[0]+1)*[np.mean(female_ratio_array[1])],linestyle=\"--\")\n",
    "    ax.legend(('Male','Female','Mean of Male','Mean of Female'),loc='best')\n",
    "    plt.xlabel('Age')\n",
    "    plt.ylabel('Searched Times/Stop Times')"
   ]
  },
  {
   "cell_type": "code",
   "execution_count": null,
   "metadata": {},
   "outputs": [],
   "source": []
  },
  {
   "cell_type": "code",
   "execution_count": null,
   "metadata": {},
   "outputs": [],
   "source": []
  }
 ],
 "metadata": {
  "kernelspec": {
   "display_name": "Python 3",
   "language": "python",
   "name": "python3"
  },
  "language_info": {
   "codemirror_mode": {
    "name": "ipython",
    "version": 3
   },
   "file_extension": ".py",
   "mimetype": "text/x-python",
   "name": "python",
   "nbconvert_exporter": "python",
   "pygments_lexer": "ipython3",
   "version": "3.6.5"
  }
 },
 "nbformat": 4,
 "nbformat_minor": 2
}
